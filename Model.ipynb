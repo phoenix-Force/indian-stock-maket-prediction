{
 "cells": [
  {
   "cell_type": "markdown",
   "metadata": {},
   "source": [
    "# Lib"
   ]
  },
  {
   "cell_type": "code",
   "execution_count": 100,
   "metadata": {},
   "outputs": [],
   "source": [
    "import pandas as pd\n",
    "import matplotlib.pyplot as plt\n",
    "import seaborn as sns\n",
    "import numpy as np\n",
    "import pickle"
   ]
  },
  {
   "cell_type": "markdown",
   "metadata": {},
   "source": [
    "# Importing Data"
   ]
  },
  {
   "cell_type": "code",
   "execution_count": 150,
   "metadata": {},
   "outputs": [],
   "source": [
    "df =pd.read_csv(\"stock_market.csv\",na_values =[\"null\"])\n",
    "df = pri_df.dropna()\n",
    "p_df =pd.DataFrame()\n",
    "f_datax=pd.DataFrame()\n",
    "f_datay=pd.DataFrame()\n",
    "\n",
    "ytest = pd.DataFrame()\n",
    "xtext = pd.DataFrame()\n",
    "Xtrain = pd.DataFrame()\n",
    "ytrain = pd.DataFrame()\n"
   ]
  },
  {
   "cell_type": "code",
   "execution_count": 151,
   "metadata": {},
   "outputs": [
    {
     "data": {
      "text/html": [
       "<div>\n",
       "<style scoped>\n",
       "    .dataframe tbody tr th:only-of-type {\n",
       "        vertical-align: middle;\n",
       "    }\n",
       "\n",
       "    .dataframe tbody tr th {\n",
       "        vertical-align: top;\n",
       "    }\n",
       "\n",
       "    .dataframe thead th {\n",
       "        text-align: right;\n",
       "    }\n",
       "</style>\n",
       "<table border=\"1\" class=\"dataframe\">\n",
       "  <thead>\n",
       "    <tr style=\"text-align: right;\">\n",
       "      <th></th>\n",
       "      <th>Symbol</th>\n",
       "      <th>Date</th>\n",
       "      <th>Open</th>\n",
       "      <th>High</th>\n",
       "      <th>Low</th>\n",
       "      <th>Close</th>\n",
       "      <th>Adj Close</th>\n",
       "      <th>Volume</th>\n",
       "    </tr>\n",
       "  </thead>\n",
       "  <tbody>\n",
       "    <tr>\n",
       "      <th>0</th>\n",
       "      <td>ADANIPORTS</td>\n",
       "      <td>5/6/2008</td>\n",
       "      <td>150.000000</td>\n",
       "      <td>153.570007</td>\n",
       "      <td>147.820007</td>\n",
       "      <td>151.149994</td>\n",
       "      <td>134.313477</td>\n",
       "      <td>1782030.0</td>\n",
       "    </tr>\n",
       "    <tr>\n",
       "      <th>1</th>\n",
       "      <td>ADANIPORTS</td>\n",
       "      <td>5/7/2008</td>\n",
       "      <td>152.000000</td>\n",
       "      <td>154.460007</td>\n",
       "      <td>150.240005</td>\n",
       "      <td>153.309998</td>\n",
       "      <td>136.232864</td>\n",
       "      <td>1180015.0</td>\n",
       "    </tr>\n",
       "    <tr>\n",
       "      <th>2</th>\n",
       "      <td>ADANIPORTS</td>\n",
       "      <td>5/8/2008</td>\n",
       "      <td>152.199997</td>\n",
       "      <td>156.759995</td>\n",
       "      <td>150.199997</td>\n",
       "      <td>155.889999</td>\n",
       "      <td>138.525497</td>\n",
       "      <td>1856245.0</td>\n",
       "    </tr>\n",
       "    <tr>\n",
       "      <th>3</th>\n",
       "      <td>ADANIPORTS</td>\n",
       "      <td>5/9/2008</td>\n",
       "      <td>155.000000</td>\n",
       "      <td>160.600006</td>\n",
       "      <td>154.210007</td>\n",
       "      <td>156.520004</td>\n",
       "      <td>139.085312</td>\n",
       "      <td>3251375.0</td>\n",
       "    </tr>\n",
       "    <tr>\n",
       "      <th>4</th>\n",
       "      <td>ADANIPORTS</td>\n",
       "      <td>5/12/2008</td>\n",
       "      <td>156.000000</td>\n",
       "      <td>163.479996</td>\n",
       "      <td>151.000000</td>\n",
       "      <td>162.500000</td>\n",
       "      <td>144.399170</td>\n",
       "      <td>5031635.0</td>\n",
       "    </tr>\n",
       "  </tbody>\n",
       "</table>\n",
       "</div>"
      ],
      "text/plain": [
       "       Symbol       Date        Open        High         Low       Close  \\\n",
       "0  ADANIPORTS   5/6/2008  150.000000  153.570007  147.820007  151.149994   \n",
       "1  ADANIPORTS   5/7/2008  152.000000  154.460007  150.240005  153.309998   \n",
       "2  ADANIPORTS   5/8/2008  152.199997  156.759995  150.199997  155.889999   \n",
       "3  ADANIPORTS   5/9/2008  155.000000  160.600006  154.210007  156.520004   \n",
       "4  ADANIPORTS  5/12/2008  156.000000  163.479996  151.000000  162.500000   \n",
       "\n",
       "    Adj Close     Volume  \n",
       "0  134.313477  1782030.0  \n",
       "1  136.232864  1180015.0  \n",
       "2  138.525497  1856245.0  \n",
       "3  139.085312  3251375.0  \n",
       "4  144.399170  5031635.0  "
      ]
     },
     "execution_count": 151,
     "metadata": {},
     "output_type": "execute_result"
    }
   ],
   "source": [
    "df.head(5)"
   ]
  },
  {
   "cell_type": "markdown",
   "metadata": {},
   "source": [
    "# Get objective Data"
   ]
  },
  {
   "cell_type": "code",
   "execution_count": 152,
   "metadata": {},
   "outputs": [],
   "source": [
    "def o_data(p_symbol,p_feature):\n",
    "    p_df =df[df.Symbol==p_symbol]\n",
    "    p_df.drop(columns=['Symbol'],inplace=True)\n",
    "    p_df.drop(columns=['Date'],inplace=True)\n",
    "    p_df[\"obj\"] = p_df[p_feature].shift(-1)\n",
    "    \n",
    "    sns.heatmap(p_df.isnull(),yticklabels=False)\n",
    "    \n",
    "    return p_df\n"
   ]
  },
  {
   "cell_type": "markdown",
   "metadata": {},
   "source": []
  },
  {
   "cell_type": "code",
   "execution_count": 153,
   "metadata": {},
   "outputs": [
    {
     "name": "stdout",
     "output_type": "stream",
     "text": [
      "ADANIPORTS\n"
     ]
    },
    {
     "name": "stderr",
     "output_type": "stream",
     "text": [
      "C:\\ProgramData\\Anaconda3\\lib\\site-packages\\pandas\\core\\frame.py:3694: SettingWithCopyWarning: \n",
      "A value is trying to be set on a copy of a slice from a DataFrame\n",
      "\n",
      "See the caveats in the documentation: http://pandas.pydata.org/pandas-docs/stable/indexing.html#indexing-view-versus-copy\n",
      "  errors=errors)\n",
      "C:\\ProgramData\\Anaconda3\\lib\\site-packages\\ipykernel_launcher.py:5: SettingWithCopyWarning: \n",
      "A value is trying to be set on a copy of a slice from a DataFrame.\n",
      "Try using .loc[row_indexer,col_indexer] = value instead\n",
      "\n",
      "See the caveats in the documentation: http://pandas.pydata.org/pandas-docs/stable/indexing.html#indexing-view-versus-copy\n",
      "  \"\"\"\n"
     ]
    },
    {
     "data": {
      "text/html": [
       "<div>\n",
       "<style scoped>\n",
       "    .dataframe tbody tr th:only-of-type {\n",
       "        vertical-align: middle;\n",
       "    }\n",
       "\n",
       "    .dataframe tbody tr th {\n",
       "        vertical-align: top;\n",
       "    }\n",
       "\n",
       "    .dataframe thead th {\n",
       "        text-align: right;\n",
       "    }\n",
       "</style>\n",
       "<table border=\"1\" class=\"dataframe\">\n",
       "  <thead>\n",
       "    <tr style=\"text-align: right;\">\n",
       "      <th></th>\n",
       "      <th>Open</th>\n",
       "      <th>High</th>\n",
       "      <th>Low</th>\n",
       "      <th>Close</th>\n",
       "      <th>Adj Close</th>\n",
       "      <th>Volume</th>\n",
       "      <th>obj</th>\n",
       "    </tr>\n",
       "  </thead>\n",
       "  <tbody>\n",
       "    <tr>\n",
       "      <th>0</th>\n",
       "      <td>150.000000</td>\n",
       "      <td>153.570007</td>\n",
       "      <td>147.820007</td>\n",
       "      <td>151.149994</td>\n",
       "      <td>134.313477</td>\n",
       "      <td>1782030.0</td>\n",
       "      <td>154.460007</td>\n",
       "    </tr>\n",
       "    <tr>\n",
       "      <th>1</th>\n",
       "      <td>152.000000</td>\n",
       "      <td>154.460007</td>\n",
       "      <td>150.240005</td>\n",
       "      <td>153.309998</td>\n",
       "      <td>136.232864</td>\n",
       "      <td>1180015.0</td>\n",
       "      <td>156.759995</td>\n",
       "    </tr>\n",
       "    <tr>\n",
       "      <th>2</th>\n",
       "      <td>152.199997</td>\n",
       "      <td>156.759995</td>\n",
       "      <td>150.199997</td>\n",
       "      <td>155.889999</td>\n",
       "      <td>138.525497</td>\n",
       "      <td>1856245.0</td>\n",
       "      <td>160.600006</td>\n",
       "    </tr>\n",
       "    <tr>\n",
       "      <th>3</th>\n",
       "      <td>155.000000</td>\n",
       "      <td>160.600006</td>\n",
       "      <td>154.210007</td>\n",
       "      <td>156.520004</td>\n",
       "      <td>139.085312</td>\n",
       "      <td>3251375.0</td>\n",
       "      <td>163.479996</td>\n",
       "    </tr>\n",
       "    <tr>\n",
       "      <th>4</th>\n",
       "      <td>156.000000</td>\n",
       "      <td>163.479996</td>\n",
       "      <td>151.000000</td>\n",
       "      <td>162.500000</td>\n",
       "      <td>144.399170</td>\n",
       "      <td>5031635.0</td>\n",
       "      <td>165.410004</td>\n",
       "    </tr>\n",
       "  </tbody>\n",
       "</table>\n",
       "</div>"
      ],
      "text/plain": [
       "         Open        High         Low       Close   Adj Close     Volume  \\\n",
       "0  150.000000  153.570007  147.820007  151.149994  134.313477  1782030.0   \n",
       "1  152.000000  154.460007  150.240005  153.309998  136.232864  1180015.0   \n",
       "2  152.199997  156.759995  150.199997  155.889999  138.525497  1856245.0   \n",
       "3  155.000000  160.600006  154.210007  156.520004  139.085312  3251375.0   \n",
       "4  156.000000  163.479996  151.000000  162.500000  144.399170  5031635.0   \n",
       "\n",
       "          obj  \n",
       "0  154.460007  \n",
       "1  156.759995  \n",
       "2  160.600006  \n",
       "3  163.479996  \n",
       "4  165.410004  "
      ]
     },
     "execution_count": 153,
     "metadata": {},
     "output_type": "execute_result"
    },
    {
     "data": {
      "image/png": "[encoded data removed]",
      "text/plain": [
       "<Figure size 432x288 with 2 Axes>"
      ]
     },
     "metadata": {},
     "output_type": "display_data"
    }
   ],
   "source": [
    "f_df = o_data(\"ADANIPORTS\",\"High\")\n",
    "print(\"ADANIPORTS\")\n",
    "f_df.head(5)\n"
   ]
  },
  {
   "cell_type": "markdown",
   "metadata": {},
   "source": [
    "# split Data"
   ]
  },
  {
   "cell_type": "code",
   "execution_count": 154,
   "metadata": {},
   "outputs": [],
   "source": [
    "def slpit(adf,p_feature):\n",
    "    train = adf[:2200]\n",
    "    ftest = adf[2200:]\n",
    "    test = ftest.dropna()\n",
    "\n",
    "    Xtrain = train.loc[:, 'Open':'Volume']\n",
    "    ytrain = train.loc[:,\"obj\"]\n",
    "    xtest = test.loc[:, 'Open':'Volume']\n",
    "    ytest = test.loc[:,\"obj\"]\n",
    "    \n",
    "    '''f_datay = f_df[\"obj\"]\n",
    "    f_datax = f_df.drop(columns=['obj'])\n",
    "    Xtrain = f_datax[:2200]\n",
    "    ytrain = f_datay[:2200]\n",
    "    xtest = f_datax[2200:]\n",
    "    ytest = f_datay[2200:]'''\n",
    "    return Xtrain,ytrain,xtest,ytest\n",
    "\n"
   ]
  },
  {
   "cell_type": "markdown",
   "metadata": {},
   "source": [
    "# Model"
   ]
  },
  {
   "cell_type": "code",
   "execution_count": 155,
   "metadata": {},
   "outputs": [
    {
     "data": {
      "text/plain": [
       "(array([], dtype=int64), array([], dtype=int64))"
      ]
     },
     "execution_count": 155,
     "metadata": {},
     "output_type": "execute_result"
    }
   ],
   "source": [
    "x_train,y_train,x_test,y_test = slpit(f_df,\"obj\")\n",
    "y_train.head(5)\n",
    "np.where(np.isnan(x_train))\n",
    "#x_train.fillna(x_train.mean(), inplace=True)\n",
    "#y_test.fillna(y_train.mean(), inplace=True)\n",
    "\n",
    "#sns.heatmap,yticklabels=False)"
   ]
  },
  {
   "cell_type": "code",
   "execution_count": 156,
   "metadata": {},
   "outputs": [],
   "source": [
    "from sklearn import linear_model\n",
    "\n",
    "model = linear_model.LinearRegression()\n"
   ]
  },
  {
   "cell_type": "markdown",
   "metadata": {},
   "source": [
    "# Train the model"
   ]
  },
  {
   "cell_type": "code",
   "execution_count": 157,
   "metadata": {},
   "outputs": [
    {
     "data": {
      "text/plain": [
       "LinearRegression(copy_X=True, fit_intercept=True, n_jobs=1, normalize=False)"
      ]
     },
     "execution_count": 157,
     "metadata": {},
     "output_type": "execute_result"
    }
   ],
   "source": [
    "model.fit(x_train,y_train)"
   ]
  },
  {
   "cell_type": "markdown",
   "metadata": {},
   "source": [
    "# Test The model"
   ]
  },
  {
   "cell_type": "code",
   "execution_count": 158,
   "metadata": {},
   "outputs": [],
   "source": [
    "p = model.predict(x_test)"
   ]
  },
  {
   "cell_type": "code",
   "execution_count": 165,
   "metadata": {},
   "outputs": [
    {
     "name": "stdout",
     "output_type": "stream",
     "text": [
      "0.9706214929777179\n"
     ]
    },
    {
     "data": {
      "text/html": [
       "<div>\n",
       "<style scoped>\n",
       "    .dataframe tbody tr th:only-of-type {\n",
       "        vertical-align: middle;\n",
       "    }\n",
       "\n",
       "    .dataframe tbody tr th {\n",
       "        vertical-align: top;\n",
       "    }\n",
       "\n",
       "    .dataframe thead th {\n",
       "        text-align: right;\n",
       "    }\n",
       "</style>\n",
       "<table border=\"1\" class=\"dataframe\">\n",
       "  <thead>\n",
       "    <tr style=\"text-align: right;\">\n",
       "      <th></th>\n",
       "      <th>obj</th>\n",
       "    </tr>\n",
       "  </thead>\n",
       "  <tbody>\n",
       "    <tr>\n",
       "      <th>0</th>\n",
       "      <td>327.500000</td>\n",
       "    </tr>\n",
       "    <tr>\n",
       "      <th>1</th>\n",
       "      <td>333.000000</td>\n",
       "    </tr>\n",
       "    <tr>\n",
       "      <th>2</th>\n",
       "      <td>335.799988</td>\n",
       "    </tr>\n",
       "    <tr>\n",
       "      <th>3</th>\n",
       "      <td>334.299988</td>\n",
       "    </tr>\n",
       "    <tr>\n",
       "      <th>4</th>\n",
       "      <td>332.950012</td>\n",
       "    </tr>\n",
       "  </tbody>\n",
       "</table>\n",
       "</div>"
      ],
      "text/plain": [
       "          obj\n",
       "0  327.500000\n",
       "1  333.000000\n",
       "2  335.799988\n",
       "3  334.299988\n",
       "4  332.950012"
      ]
     },
     "execution_count": 165,
     "metadata": {},
     "output_type": "execute_result"
    }
   ],
   "source": [
    "print(model.score(x_test,y_test))\n",
    "ffy_test= y_test.reset_index()\n",
    "f_ytest = ffy_test.drop(columns=['index'])\n",
    "f_ytest.head(5)"
   ]
  },
  {
   "cell_type": "code",
   "execution_count": 166,
   "metadata": {},
   "outputs": [
    {
     "name": "stderr",
     "output_type": "stream",
     "text": [
      "No handles with labels found to put in legend.\n"
     ]
    },
    {
     "data": {
      "text/plain": [
       "<matplotlib.legend.Legend at 0x294ee85bf28>"
      ]
     },
     "execution_count": 166,
     "metadata": {},
     "output_type": "execute_result"
    },
    {
     "data": {
      "image/png": "[encoded data removed]",
      "text/plain": [
       "<Figure size 432x288 with 1 Axes>"
      ]
     },
     "metadata": {},
     "output_type": "display_data"
    }
   ],
   "source": [
    "plt.plot(f_ytest,color='B')\n",
    "plt.plot(p,color = 'G')\n",
    "plt.legend()"
   ]
  },
  {
   "cell_type": "code",
   "execution_count": null,
   "metadata": {},
   "outputs": [],
   "source": []
  },
  {
   "cell_type": "code",
   "execution_count": null,
   "metadata": {},
   "outputs": [],
   "source": []
  }
 ],
 "metadata": {
  "kernelspec": {
   "display_name": "Python 3",
   "language": "python",
   "name": "python3"
  },
  "language_info": {
   "codemirror_mode": {
    "name": "ipython",
    "version": 3
   },
   "file_extension": ".py",
   "mimetype": "text/x-python",
   "name": "python",
   "nbconvert_exporter": "python",
   "pygments_lexer": "ipython3",
   "version": "3.6.5"
  }
 },
 "nbformat": 4,
 "nbformat_minor": 2
}
